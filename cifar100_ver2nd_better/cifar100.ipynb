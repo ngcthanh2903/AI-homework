{
  "nbformat": 4,
  "nbformat_minor": 0,
  "metadata": {
    "colab": {
      "name": "Bản sao của Untitled3.ipynb",
      "provenance": [],
      "collapsed_sections": [],
      "authorship_tag": "ABX9TyP494G+kTAwLKzoUYbrrTk5",
      "include_colab_link": true
    },
    "kernelspec": {
      "name": "python3",
      "display_name": "Python 3"
    },
    "language_info": {
      "name": "python"
    },
    "accelerator": "GPU"
  },
  "cells": [
    {
      "cell_type": "markdown",
      "metadata": {
        "id": "view-in-github",
        "colab_type": "text"
      },
      "source": [
        "<a href=\"https://colab.research.google.com/github/ngcthanh2903/AI-homework/blob/main/cifar100_ver2nd_better/cifar100.ipynb\" target=\"_parent\"><img src=\"https://colab.research.google.com/assets/colab-badge.svg\" alt=\"Open In Colab\"/></a>"
      ]
    },
    {
      "cell_type": "code",
      "execution_count": 1,
      "metadata": {
        "id": "dwHRXI_xR8Ij"
      },
      "outputs": [],
      "source": [
        "import torch\n",
        "import torch.nn.functional as F\n",
        "import torch.nn.grad as grad\n"
      ]
    },
    {
      "cell_type": "code",
      "source": [
        "import cv2 as cv\n",
        "import os\n",
        "import time\n",
        "import matplotlib.pyplot as plt\n",
        "import numpy as np"
      ],
      "metadata": {
        "id": "2uU9XLPzwTE3"
      },
      "execution_count": 2,
      "outputs": []
    },
    {
      "cell_type": "code",
      "source": [
        "#Bài 1 cifar100\n",
        "from keras.datasets import cifar100"
      ],
      "metadata": {
        "id": "2NhZLZgPwaPZ"
      },
      "execution_count": 3,
      "outputs": []
    },
    {
      "cell_type": "code",
      "source": [
        "(x_train, y_train), (x_test, y_test) = cifar100.load_data()"
      ],
      "metadata": {
        "id": "Dh9-xR8Z-sJe"
      },
      "execution_count": 16,
      "outputs": []
    },
    {
      "cell_type": "code",
      "source": [
        "x_train.shape\n",
        "x_test.shape"
      ],
      "metadata": {
        "colab": {
          "base_uri": "https://localhost:8080/"
        },
        "id": "cI5GkLADA8Gt",
        "outputId": "379c438a-cf00-4e26-d1c6-0b503a718623"
      },
      "execution_count": 5,
      "outputs": [
        {
          "output_type": "execute_result",
          "data": {
            "text/plain": [
              "(10000, 32, 32, 3)"
            ]
          },
          "metadata": {},
          "execution_count": 5
        }
      ]
    },
    {
      "cell_type": "code",
      "source": [
        "import tensorflow as tf \n",
        "x_leftright = []\n",
        "y_leftright  = []\n",
        "for i in range(x_train.shape[0]):\n",
        "  x = tf.image.flip_left_right(x_train[i])\n",
        "  y = y_train[i]\n",
        "  x_leftright.append(x)\n",
        "  y_leftright.append(y)"
      ],
      "metadata": {
        "id": "Df9KveGV-hqN"
      },
      "execution_count": 17,
      "outputs": []
    },
    {
      "cell_type": "code",
      "source": [
        "x_leftright = np.array(x_leftright)\n",
        "y_leftright = np.array(y_leftright)"
      ],
      "metadata": {
        "id": "WFmweFim-yuv"
      },
      "execution_count": 18,
      "outputs": []
    },
    {
      "cell_type": "code",
      "source": [
        "X_train = np.concatenate((x_train,x_leftright))\n",
        "Y_train = np.concatenate((y_train,y_leftright))"
      ],
      "metadata": {
        "id": "7woIhlJj-0Fc"
      },
      "execution_count": 19,
      "outputs": []
    },
    {
      "cell_type": "code",
      "source": [
        "from keras.models import Sequential\n",
        "from keras.layers import Dense\n",
        "from tensorflow import keras\n",
        "X_train = X_train.reshape(X_train.shape[0], 32, 32, 3)\n",
        "x_test = x_test.reshape(x_test.shape[0], 32, 32, 3)\n",
        "\n",
        "# convert class vectors to binary class matrices\n",
        "Y_train = keras.utils.to_categorical(Y_train, 100)\n",
        "y_test = keras.utils.to_categorical(y_test, 100)\n",
        "X_train = X_train.astype('float32')\n",
        "x_test = x_test.astype('float32')\n",
        "X_train /= 255\n",
        "x_test /= 255\n",
        "print('X_train shape:', X_train.shape)\n",
        "print(X_train.shape[0], 'train samples')\n",
        "print(x_test.shape[0], 'test samples')"
      ],
      "metadata": {
        "colab": {
          "base_uri": "https://localhost:8080/"
        },
        "id": "EYnMbhq-BFa3",
        "outputId": "f3a6ecb2-a918-42ac-e9bd-5bb87906fd8a"
      },
      "execution_count": 20,
      "outputs": [
        {
          "output_type": "stream",
          "name": "stdout",
          "text": [
            "X_train shape: (100000, 32, 32, 3)\n",
            "100000 train samples\n",
            "10000 test samples\n"
          ]
        }
      ]
    },
    {
      "cell_type": "code",
      "source": [
        "x_test.shape"
      ],
      "metadata": {
        "colab": {
          "base_uri": "https://localhost:8080/"
        },
        "id": "8ECtu5hNOMdG",
        "outputId": "66e3d1aa-bbd9-4f46-f6b6-73a19d7d580f"
      },
      "execution_count": 21,
      "outputs": [
        {
          "output_type": "execute_result",
          "data": {
            "text/plain": [
              "(10000, 32, 32, 3)"
            ]
          },
          "metadata": {},
          "execution_count": 21
        }
      ]
    },
    {
      "cell_type": "code",
      "source": [
        "\n",
        "plt.imshow(x_train[0])"
      ],
      "metadata": {
        "colab": {
          "base_uri": "https://localhost:8080/",
          "height": 284
        },
        "id": "q2ZQkdu-JmX7",
        "outputId": "e5b92f07-566d-452c-8737-28614b338c70"
      },
      "execution_count": 8,
      "outputs": [
        {
          "output_type": "execute_result",
          "data": {
            "text/plain": [
              "<matplotlib.image.AxesImage at 0x7fa505c8bc10>"
            ]
          },
          "metadata": {},
          "execution_count": 8
        },
        {
          "output_type": "display_data",
          "data": {
            "text/plain": [
              "<Figure size 432x288 with 1 Axes>"
            ],
            "image/png": "[encoded data removed]"
          },
          "metadata": {
            "needs_background": "light"
          }
        }
      ]
    },
    {
      "cell_type": "code",
      "source": [
        "from google.colab.patches import cv2_imshow\n",
        "x_train[0]\n",
        "i= cv.cvtColor(x_train[0],cv.COLOR_BGR2RGB)\n",
        "#print(i)\n",
        "#plt.imshow(i,cmap ='gray')\n",
        "cv2_imshow(i)"
      ],
      "metadata": {
        "colab": {
          "base_uri": "https://localhost:8080/",
          "height": 49
        },
        "id": "Gt2fLua-Yy8E",
        "outputId": "77293c09-bbcc-48c5-8515-93ea83af42dc"
      },
      "execution_count": 9,
      "outputs": [
        {
          "output_type": "display_data",
          "data": {
            "text/plain": [
              "<PIL.Image.Image image mode=RGB size=32x32 at 0x7FA505C4A610>"
            ],
            "image/png": "[encoded data removed]"
          },
          "metadata": {}
        }
      ]
    },
    {
      "cell_type": "code",
      "source": [
        "Y_train.shape"
      ],
      "metadata": {
        "colab": {
          "base_uri": "https://localhost:8080/"
        },
        "id": "Rm2NqtksQcHN",
        "outputId": "6f466859-f14e-40a9-c8f8-34828e0756d2"
      },
      "execution_count": 22,
      "outputs": [
        {
          "output_type": "execute_result",
          "data": {
            "text/plain": [
              "(100000, 100)"
            ]
          },
          "metadata": {},
          "execution_count": 22
        }
      ]
    },
    {
      "cell_type": "code",
      "source": [
        "from keras.layers import Activation\n",
        "from keras.models import Sequential\n",
        "from keras.layers import Dense, Dropout, Flatten\n",
        "from keras.layers import Conv2D, MaxPooling2D,BatchNormalization\n",
        "from keras import backend as K\n"
      ],
      "metadata": {
        "id": "OQ5OqH9ABg-j"
      },
      "execution_count": 23,
      "outputs": []
    },
    {
      "cell_type": "code",
      "source": [
        "model=Sequential()\n",
        "model.add(Conv2D(32,(3,3),activation='relu',kernel_initializer='he_uniform',padding='same',input_shape=(32,32,3)))\n",
        "model.add(Conv2D(32,(3,3),activation='relu',kernel_initializer='he_uniform',padding='same'))\n",
        "model.add(MaxPooling2D((2,2)))\n",
        "model.add(BatchNormalization())\n",
        "model.add(Conv2D(64,(3,3),activation='relu',kernel_initializer='he_uniform',padding='same'))\n",
        "model.add(Conv2D(64,(3,3),activation='relu',kernel_initializer='he_uniform',padding='same'))\n",
        "model.add(MaxPooling2D((2,2)))\n",
        "model.add(BatchNormalization())\n",
        "model.add(Conv2D(128,(3,3),activation='relu',kernel_initializer='he_uniform',padding='same'))\n",
        "model.add(Conv2D(128,(3,3),activation='relu',kernel_initializer='he_uniform',padding='same'))\n",
        "model.add(MaxPooling2D((2,2)))\n",
        "model.add(BatchNormalization())\n",
        "model.add(Flatten())\n",
        "model.add(Dropout(0.2))\n",
        "model.add(Dense(252,activation='relu'))\n",
        "model.add(Dense(100,activation='softmax'))\n",
        "model.compile(loss=keras.losses.categorical_crossentropy,optimizer=keras.optimizers.Adam(),metrics=['accuracy'])\n",
        "model.summary()"
      ],
      "metadata": {
        "id": "TY7Q2HzxX2lA",
        "colab": {
          "base_uri": "https://localhost:8080/"
        },
        "outputId": "82486760-dbfb-4529-c026-1b579de529b5"
      },
      "execution_count": 24,
      "outputs": [
        {
          "output_type": "stream",
          "name": "stdout",
          "text": [
            "Model: \"sequential_1\"\n",
            "_________________________________________________________________\n",
            " Layer (type)                Output Shape              Param #   \n",
            "=================================================================\n",
            " conv2d_6 (Conv2D)           (None, 32, 32, 32)        896       \n",
            "                                                                 \n",
            " conv2d_7 (Conv2D)           (None, 32, 32, 32)        9248      \n",
            "                                                                 \n",
            " max_pooling2d_3 (MaxPooling  (None, 16, 16, 32)       0         \n",
            " 2D)                                                             \n",
            "                                                                 \n",
            " batch_normalization_3 (Batc  (None, 16, 16, 32)       128       \n",
            " hNormalization)                                                 \n",
            "                                                                 \n",
            " conv2d_8 (Conv2D)           (None, 16, 16, 64)        18496     \n",
            "                                                                 \n",
            " conv2d_9 (Conv2D)           (None, 16, 16, 64)        36928     \n",
            "                                                                 \n",
            " max_pooling2d_4 (MaxPooling  (None, 8, 8, 64)         0         \n",
            " 2D)                                                             \n",
            "                                                                 \n",
            " batch_normalization_4 (Batc  (None, 8, 8, 64)         256       \n",
            " hNormalization)                                                 \n",
            "                                                                 \n",
            " conv2d_10 (Conv2D)          (None, 8, 8, 128)         73856     \n",
            "                                                                 \n",
            " conv2d_11 (Conv2D)          (None, 8, 8, 128)         147584    \n",
            "                                                                 \n",
            " max_pooling2d_5 (MaxPooling  (None, 4, 4, 128)        0         \n",
            " 2D)                                                             \n",
            "                                                                 \n",
            " batch_normalization_5 (Batc  (None, 4, 4, 128)        512       \n",
            " hNormalization)                                                 \n",
            "                                                                 \n",
            " flatten_1 (Flatten)         (None, 2048)              0         \n",
            "                                                                 \n",
            " dropout_1 (Dropout)         (None, 2048)              0         \n",
            "                                                                 \n",
            " dense_2 (Dense)             (None, 252)               516348    \n",
            "                                                                 \n",
            " dense_3 (Dense)             (None, 100)               25300     \n",
            "                                                                 \n",
            "=================================================================\n",
            "Total params: 829,552\n",
            "Trainable params: 829,104\n",
            "Non-trainable params: 448\n",
            "_________________________________________________________________\n"
          ]
        }
      ]
    },
    {
      "cell_type": "code",
      "source": [
        "hist = model.fit(X_train, Y_train,batch_size=32,epochs=30,verbose=1,validation_data=(x_test, y_test))"
      ],
      "metadata": {
        "colab": {
          "base_uri": "https://localhost:8080/"
        },
        "id": "0WxQFNVGDyYl",
        "outputId": "d803c73b-dc21-4766-ce3b-0e57f9bb18c6"
      },
      "execution_count": 25,
      "outputs": [
        {
          "output_type": "stream",
          "name": "stdout",
          "text": [
            "Epoch 1/30\n",
            "3125/3125 [==============================] - 19s 6ms/step - loss: 3.1142 - accuracy: 0.2452 - val_loss: 2.5171 - val_accuracy: 0.3548\n",
            "Epoch 2/30\n",
            "3125/3125 [==============================] - 19s 6ms/step - loss: 2.1558 - accuracy: 0.4283 - val_loss: 2.1849 - val_accuracy: 0.4290\n",
            "Epoch 3/30\n",
            "3125/3125 [==============================] - 18s 6ms/step - loss: 1.7730 - accuracy: 0.5130 - val_loss: 1.9849 - val_accuracy: 0.4760\n",
            "Epoch 4/30\n",
            "3125/3125 [==============================] - 18s 6ms/step - loss: 1.5159 - accuracy: 0.5735 - val_loss: 1.8515 - val_accuracy: 0.5039\n",
            "Epoch 5/30\n",
            "3125/3125 [==============================] - 19s 6ms/step - loss: 1.3223 - accuracy: 0.6226 - val_loss: 1.8156 - val_accuracy: 0.5246\n",
            "Epoch 6/30\n",
            "3125/3125 [==============================] - 18s 6ms/step - loss: 1.1539 - accuracy: 0.6621 - val_loss: 1.8150 - val_accuracy: 0.5332\n",
            "Epoch 7/30\n",
            "3125/3125 [==============================] - 18s 6ms/step - loss: 1.0143 - accuracy: 0.6986 - val_loss: 1.8043 - val_accuracy: 0.5487\n",
            "Epoch 8/30\n",
            "3125/3125 [==============================] - 18s 6ms/step - loss: 0.9036 - accuracy: 0.7276 - val_loss: 1.8975 - val_accuracy: 0.5424\n",
            "Epoch 9/30\n",
            "3125/3125 [==============================] - 17s 6ms/step - loss: 0.8008 - accuracy: 0.7546 - val_loss: 1.8795 - val_accuracy: 0.5386\n",
            "Epoch 10/30\n",
            "3125/3125 [==============================] - 18s 6ms/step - loss: 0.7263 - accuracy: 0.7753 - val_loss: 1.9666 - val_accuracy: 0.5552\n",
            "Epoch 11/30\n",
            "3125/3125 [==============================] - 19s 6ms/step - loss: 0.6569 - accuracy: 0.7934 - val_loss: 1.9680 - val_accuracy: 0.5559\n",
            "Epoch 12/30\n",
            "3125/3125 [==============================] - 18s 6ms/step - loss: 0.5980 - accuracy: 0.8104 - val_loss: 2.0403 - val_accuracy: 0.5527\n",
            "Epoch 13/30\n",
            "3125/3125 [==============================] - 18s 6ms/step - loss: 0.5511 - accuracy: 0.8239 - val_loss: 2.1158 - val_accuracy: 0.5495\n",
            "Epoch 14/30\n",
            "3125/3125 [==============================] - 18s 6ms/step - loss: 0.5087 - accuracy: 0.8372 - val_loss: 2.1634 - val_accuracy: 0.5518\n",
            "Epoch 15/30\n",
            "3125/3125 [==============================] - 18s 6ms/step - loss: 0.4754 - accuracy: 0.8461 - val_loss: 2.2474 - val_accuracy: 0.5541\n",
            "Epoch 16/30\n",
            "3125/3125 [==============================] - 18s 6ms/step - loss: 0.4430 - accuracy: 0.8559 - val_loss: 2.2660 - val_accuracy: 0.5518\n",
            "Epoch 17/30\n",
            "3125/3125 [==============================] - 18s 6ms/step - loss: 0.4212 - accuracy: 0.8620 - val_loss: 2.3764 - val_accuracy: 0.5411\n",
            "Epoch 18/30\n",
            "3125/3125 [==============================] - 18s 6ms/step - loss: 0.3956 - accuracy: 0.8703 - val_loss: 2.4171 - val_accuracy: 0.5481\n",
            "Epoch 19/30\n",
            "3125/3125 [==============================] - 18s 6ms/step - loss: 0.3724 - accuracy: 0.8780 - val_loss: 2.3629 - val_accuracy: 0.5571\n",
            "Epoch 20/30\n",
            "3125/3125 [==============================] - 18s 6ms/step - loss: 0.3584 - accuracy: 0.8824 - val_loss: 2.3933 - val_accuracy: 0.5465\n",
            "Epoch 21/30\n",
            "3125/3125 [==============================] - 17s 6ms/step - loss: 0.3426 - accuracy: 0.8871 - val_loss: 2.3923 - val_accuracy: 0.5612\n",
            "Epoch 22/30\n",
            "3125/3125 [==============================] - 18s 6ms/step - loss: 0.3260 - accuracy: 0.8926 - val_loss: 2.4795 - val_accuracy: 0.5574\n",
            "Epoch 23/30\n",
            "3125/3125 [==============================] - 30s 10ms/step - loss: 0.3117 - accuracy: 0.8970 - val_loss: 2.5728 - val_accuracy: 0.5510\n",
            "Epoch 24/30\n",
            "3125/3125 [==============================] - 21s 7ms/step - loss: 0.2998 - accuracy: 0.9018 - val_loss: 2.6130 - val_accuracy: 0.5561\n",
            "Epoch 25/30\n",
            "3125/3125 [==============================] - 25s 8ms/step - loss: 0.2872 - accuracy: 0.9044 - val_loss: 2.6391 - val_accuracy: 0.5510\n",
            "Epoch 26/30\n",
            "3125/3125 [==============================] - 29s 9ms/step - loss: 0.2828 - accuracy: 0.9064 - val_loss: 2.6252 - val_accuracy: 0.5583\n",
            "Epoch 27/30\n",
            "3125/3125 [==============================] - 26s 8ms/step - loss: 0.2679 - accuracy: 0.9120 - val_loss: 2.6688 - val_accuracy: 0.5549\n",
            "Epoch 28/30\n",
            "3125/3125 [==============================] - 19s 6ms/step - loss: 0.2629 - accuracy: 0.9121 - val_loss: 2.6371 - val_accuracy: 0.5627\n",
            "Epoch 29/30\n",
            "3125/3125 [==============================] - 18s 6ms/step - loss: 0.2536 - accuracy: 0.9157 - val_loss: 2.7421 - val_accuracy: 0.5505\n",
            "Epoch 30/30\n",
            "3125/3125 [==============================] - 17s 6ms/step - loss: 0.2506 - accuracy: 0.9173 - val_loss: 2.7672 - val_accuracy: 0.5552\n"
          ]
        }
      ]
    },
    {
      "cell_type": "code",
      "source": [
        "plt.plot(hist.history['accuracy'])"
      ],
      "metadata": {
        "colab": {
          "base_uri": "https://localhost:8080/",
          "height": 283
        },
        "id": "Ej2QSZbdEZ2P",
        "outputId": "2b6acdc0-f112-4916-ae46-9f54d02072d8"
      },
      "execution_count": 26,
      "outputs": [
        {
          "output_type": "execute_result",
          "data": {
            "text/plain": [
              "[<matplotlib.lines.Line2D at 0x7fa373e97110>]"
            ]
          },
          "metadata": {},
          "execution_count": 26
        },
        {
          "output_type": "display_data",
          "data": {
            "text/plain": [
              "<Figure size 432x288 with 1 Axes>"
            ],
            "image/png": "[encoded data removed]"
          },
          "metadata": {
            "needs_background": "light"
          }
        }
      ]
    },
    {
      "cell_type": "code",
      "source": [
        "plt.plot(hist.history['val_accuracy'])"
      ],
      "metadata": {
        "colab": {
          "base_uri": "https://localhost:8080/",
          "height": 283
        },
        "id": "dhiwDtMREmEJ",
        "outputId": "7430430f-f6a3-4378-a4dd-e52401e98180"
      },
      "execution_count": 27,
      "outputs": [
        {
          "output_type": "execute_result",
          "data": {
            "text/plain": [
              "[<matplotlib.lines.Line2D at 0x7fa4820bc810>]"
            ]
          },
          "metadata": {},
          "execution_count": 27
        },
        {
          "output_type": "display_data",
          "data": {
            "text/plain": [
              "<Figure size 432x288 with 1 Axes>"
            ],
            "image/png": "[encoded data removed]"
          },
          "metadata": {
            "needs_background": "light"
          }
        }
      ]
    },
    {
      "cell_type": "code",
      "source": [
        "model.save('cifar100.h5')"
      ],
      "metadata": {
        "id": "WetrOyX1z6YZ"
      },
      "execution_count": 28,
      "outputs": []
    },
    {
      "cell_type": "code",
      "source": [
        "plt.imshow(x_train[5])"
      ],
      "metadata": {
        "colab": {
          "base_uri": "https://localhost:8080/",
          "height": 284
        },
        "id": "smzxiGQ5p0hs",
        "outputId": "ddbb3186-315a-44da-8f5d-361a695026dc"
      },
      "execution_count": 29,
      "outputs": [
        {
          "output_type": "execute_result",
          "data": {
            "text/plain": [
              "<matplotlib.image.AxesImage at 0x7fa3ebc2bad0>"
            ]
          },
          "metadata": {},
          "execution_count": 29
        },
        {
          "output_type": "display_data",
          "data": {
            "text/plain": [
              "<Figure size 432x288 with 1 Axes>"
            ],
            "image/png": "[encoded data removed]"
          },
          "metadata": {
            "needs_background": "light"
          }
        }
      ]
    },
    {
      "cell_type": "code",
      "source": [
        "np.argmax(y_train[5])\n"
      ],
      "metadata": {
        "colab": {
          "base_uri": "https://localhost:8080/"
        },
        "id": "3q8d4IWap6df",
        "outputId": "cb045660-0a47-4751-b0b1-3a0711067a1e"
      },
      "execution_count": null,
      "outputs": [
        {
          "output_type": "execute_result",
          "data": {
            "text/plain": [
              "86"
            ]
          },
          "metadata": {},
          "execution_count": 19
        }
      ]
    },
    {
      "cell_type": "code",
      "source": [
        "classes = [\n",
        "    'apple', 'aquarium_fish', 'baby', 'bear', 'beaver', 'bed', 'bee', 'beetle',\n",
        "    'bicycle', 'bottle', 'bowl', 'boy', 'bridge', 'bus', 'butterfly', 'camel',\n",
        "    'can', 'castle', 'caterpillar', 'cattle', 'chair', 'chimpanzee', 'clock',\n",
        "    'cloud', 'cockroach', 'couch', 'crab', 'crocodile', 'cup', 'dinosaur',\n",
        "    'dolphin', 'elephant', 'flatfish', 'forest', 'fox', 'girl', 'hamster',\n",
        "    'house', 'kangaroo', 'keyboard', 'lamp', 'lawn_mower', 'leopard', 'lion',\n",
        "    'lizard', 'lobster', 'man', 'maple_tree', 'motorcycle', 'mountain', 'mouse',\n",
        "    'mushroom', 'oak_tree', 'orange', 'orchid', 'otter', 'palm_tree', 'pear',\n",
        "    'pickup_truck', 'pine_tree', 'plain', 'plate', 'poppy', 'porcupine',\n",
        "    'possum', 'rabbit', 'raccoon', 'ray', 'road', 'rocket', 'rose',\n",
        "    'sea', 'seal', 'shark', 'shrew', 'skunk', 'skyscraper', 'snail', 'snake',\n",
        "    'spider', 'squirrel', 'streetcar', 'sunflower', 'sweet_pepper', 'table',\n",
        "    'tank', 'telephone', 'television', 'tiger', 'tractor', 'train', 'trout',\n",
        "    'tulip', 'turtle', 'wardrobe', 'whale', 'willow_tree', 'wolf', 'woman',\n",
        "    'worm'\n",
        "]"
      ],
      "metadata": {
        "id": "8Vw932PkCZpn"
      },
      "execution_count": 35,
      "outputs": []
    },
    {
      "cell_type": "code",
      "source": [
        "from keras.preprocessing.image import load_img\n",
        "from keras.preprocessing.image import img_to_array \n",
        "from keras.models import load_model\n",
        "import numpy as np  \n",
        "import matplotlib.pyplot as plt\n",
        "import cv2 \n",
        "\n",
        "# load and prepare the image\n",
        "def load_image(filename):\n",
        "\t# load the image\n",
        "\timg = load_img(filename, target_size=(32, 32))\t\n",
        "\t\n",
        "\treturn img"
      ],
      "metadata": {
        "id": "Ept3g70fp6hq"
      },
      "execution_count": 31,
      "outputs": []
    },
    {
      "cell_type": "code",
      "source": [
        "#test kết quả theo kiểu softmax\n",
        "# nhớ mã hóa onehot y trước khi test\n",
        "\n",
        "model = load_model('cifar100.h5')\n",
        "\t# load model\n",
        "img = load_image('kl.png')\n",
        "plt.imshow(img)\n",
        "img = img_to_array(img)\n",
        "img.shape\n",
        "img = img.reshape(1,32,32,3)  \n",
        "img.shape\n",
        "result = model.predict(img)\n",
        "#print(result)\n",
        "np.argmax(result) \n",
        "print('expectation',classes[np.argmax(result)]) "
      ],
      "metadata": {
        "colab": {
          "base_uri": "https://localhost:8080/",
          "height": 284
        },
        "id": "yzIyw-VIqS6b",
        "outputId": "4d26ef72-0d96-47f7-d67f-3e8954e4828c"
      },
      "execution_count": 36,
      "outputs": [
        {
          "output_type": "stream",
          "name": "stdout",
          "text": [
            "expectation dinosaur\n"
          ]
        },
        {
          "output_type": "display_data",
          "data": {
            "text/plain": [
              "<Figure size 432x288 with 1 Axes>"
            ],
            "image/png": "[encoded data removed]"
          },
          "metadata": {
            "needs_background": "light"
          }
        }
      ]
    },
    {
      "cell_type": "code",
      "source": [
        "#test kết quả theo kiểu softmax\n",
        "# nhớ mã hóa onehot y trước khi test\n",
        "\n",
        "model = load_model('cifar100.h5')\n",
        "\t# load model\n",
        "img = load_image('tablephone.png')\n",
        "plt.imshow(img)\n",
        "img = img_to_array(img)\n",
        "img.shape\n",
        "img = img.reshape(1,32,32,3)  \n",
        "img.shape\n",
        "result = model.predict(img)\n",
        "#print(result)\n",
        "np.argmax(result) \n",
        "print('expectation',classes[np.argmax(result)]) "
      ],
      "metadata": {
        "colab": {
          "base_uri": "https://localhost:8080/",
          "height": 284
        },
        "id": "gEeGzP-rqS91",
        "outputId": "b486dbf3-db67-4044-d16b-dfd28bc88281"
      },
      "execution_count": 37,
      "outputs": [
        {
          "output_type": "stream",
          "name": "stdout",
          "text": [
            "expectation telephone\n"
          ]
        },
        {
          "output_type": "display_data",
          "data": {
            "text/plain": [
              "<Figure size 432x288 with 1 Axes>"
            ],
            "image/png": "[encoded data removed]"
          },
          "metadata": {
            "needs_background": "light"
          }
        }
      ]
    },
    {
      "cell_type": "code",
      "source": [
        "plt.imshow(x_test[0])\n",
        "print(classes[np.argmax(y_test[0])])\n",
        "print('preict',classes[np.argmax(model.predict(x_test[[0]]))])"
      ],
      "metadata": {
        "colab": {
          "base_uri": "https://localhost:8080/",
          "height": 302
        },
        "id": "GpSDDz2UCulX",
        "outputId": "6c5fd749-bd2d-4182-da34-70c6facc55cf"
      },
      "execution_count": 54,
      "outputs": [
        {
          "output_type": "stream",
          "name": "stdout",
          "text": [
            "mountain\n",
            "preict man\n"
          ]
        },
        {
          "output_type": "display_data",
          "data": {
            "text/plain": [
              "<Figure size 432x288 with 1 Axes>"
            ],
            "image/png": "[encoded data removed]"
          },
          "metadata": {
            "needs_background": "light"
          }
        }
      ]
    },
    {
      "cell_type": "code",
      "source": [
        "plt.imshow(x_test[1])\n",
        "print(classes[np.argmax(y_test[1])])\n",
        "print('preict',classes[np.argmax(model.predict(x_test[[1]]))])"
      ],
      "metadata": {
        "colab": {
          "base_uri": "https://localhost:8080/",
          "height": 302
        },
        "id": "JTQw42MwErvV",
        "outputId": "b8a7eedf-c520-4d1c-930e-8fa8ef6a6a63"
      },
      "execution_count": 55,
      "outputs": [
        {
          "output_type": "stream",
          "name": "stdout",
          "text": [
            "forest\n",
            "preict forest\n"
          ]
        },
        {
          "output_type": "display_data",
          "data": {
            "text/plain": [
              "<Figure size 432x288 with 1 Axes>"
            ],
            "image/png": "[encoded data removed]"
          },
          "metadata": {
            "needs_background": "light"
          }
        }
      ]
    },
    {
      "cell_type": "code",
      "source": [
        "plt.imshow(x_test[2])\n",
        "print(classes[np.argmax(y_test[2])])\n",
        "print('preict',classes[np.argmax(model.predict(x_test[[2]]))])"
      ],
      "metadata": {
        "colab": {
          "base_uri": "https://localhost:8080/",
          "height": 302
        },
        "id": "dbl3GXxWExK5",
        "outputId": "44aa04f9-f03d-426d-8161-08c98205cf4f"
      },
      "execution_count": 56,
      "outputs": [
        {
          "output_type": "stream",
          "name": "stdout",
          "text": [
            "seal\n",
            "preict dolphin\n"
          ]
        },
        {
          "output_type": "display_data",
          "data": {
            "text/plain": [
              "<Figure size 432x288 with 1 Axes>"
            ],
            "image/png": "[encoded data removed]"
          },
          "metadata": {
            "needs_background": "light"
          }
        }
      ]
    },
    {
      "cell_type": "code",
      "source": [
        "plt.imshow(x_test[4])\n",
        "print(classes[np.argmax(y_test[4])])\n",
        "print('preict',classes[np.argmax(model.predict(x_test[[4]]))])"
      ],
      "metadata": {
        "colab": {
          "base_uri": "https://localhost:8080/",
          "height": 302
        },
        "id": "P9hmb8U5E1mV",
        "outputId": "628b3964-7127-4062-dbdb-d7b5202ade78"
      },
      "execution_count": 58,
      "outputs": [
        {
          "output_type": "stream",
          "name": "stdout",
          "text": [
            "sea\n",
            "preict sea\n"
          ]
        },
        {
          "output_type": "display_data",
          "data": {
            "text/plain": [
              "<Figure size 432x288 with 1 Axes>"
            ],
            "image/png": "[encoded data removed]"
          },
          "metadata": {
            "needs_background": "light"
          }
        }
      ]
    },
    {
      "cell_type": "code",
      "source": [
        "plt.imshow(x_test[5])\n",
        "print(classes[np.argmax(y_test[5])])\n",
        "print('preict',classes[np.argmax(model.predict(x_test[[5]]))])"
      ],
      "metadata": {
        "colab": {
          "base_uri": "https://localhost:8080/",
          "height": 302
        },
        "id": "4EqVIncWExVh",
        "outputId": "4e7be5df-29b7-4bb1-8278-ba5639875771"
      },
      "execution_count": 59,
      "outputs": [
        {
          "output_type": "stream",
          "name": "stdout",
          "text": [
            "tulip\n",
            "preict beetle\n"
          ]
        },
        {
          "output_type": "display_data",
          "data": {
            "text/plain": [
              "<Figure size 432x288 with 1 Axes>"
            ],
            "image/png": "[encoded data removed]"
          },
          "metadata": {
            "needs_background": "light"
          }
        }
      ]
    },
    {
      "cell_type": "code",
      "source": [
        "plt.imshow(x_test[15])\n",
        "print(classes[np.argmax(y_test[15])])\n",
        "print('preict',classes[np.argmax(model.predict(x_test[[15]]))])"
      ],
      "metadata": {
        "colab": {
          "base_uri": "https://localhost:8080/",
          "height": 302
        },
        "id": "GPWBIvuYFCXM",
        "outputId": "b3d7b0fd-74b5-4d24-e8ca-629f90bc7b8d"
      },
      "execution_count": 60,
      "outputs": [
        {
          "output_type": "stream",
          "name": "stdout",
          "text": [
            "lion\n",
            "preict lion\n"
          ]
        },
        {
          "output_type": "display_data",
          "data": {
            "text/plain": [
              "<Figure size 432x288 with 1 Axes>"
            ],
            "image/png": "[encoded data removed]"
          },
          "metadata": {
            "needs_background": "light"
          }
        }
      ]
    }
  ]
}