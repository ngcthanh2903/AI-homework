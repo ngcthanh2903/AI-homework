{
  "nbformat": 4,
  "nbformat_minor": 0,
  "metadata": {
    "colab": {
      "name": "Untitled3.ipynb",
      "provenance": [],
      "authorship_tag": "ABX9TyPSQOok/LlQKKFydOegpiZa",
      "include_colab_link": true
    },
    "kernelspec": {
      "name": "python3",
      "display_name": "Python 3"
    },
    "language_info": {
      "name": "python"
    },
    "accelerator": "GPU"
  },
  "cells": [
    {
      "cell_type": "markdown",
      "metadata": {
        "id": "view-in-github",
        "colab_type": "text"
      },
      "source": [
        "<a href=\"https://colab.research.google.com/github/ngcthanh2903/AI-homework/blob/main/cirfa100/cifar100.ipynb\" target=\"_parent\"><img src=\"https://colab.research.google.com/assets/colab-badge.svg\" alt=\"Open In Colab\"/></a>"
      ]
    },
    {
      "cell_type": "code",
      "execution_count": 1,
      "metadata": {
        "colab": {
          "base_uri": "https://localhost:8080/"
        },
        "id": "RvkRQi8u5Fff",
        "outputId": "e2630a7a-b5af-4d0f-bdd7-8a5d57515b19"
      },
      "outputs": [
        {
          "output_type": "stream",
          "name": "stdout",
          "text": [
            "(50000, 32, 32, 3) (50000, 1)\n"
          ]
        }
      ],
      "source": [
        "from keras.layers import Activation\n",
        "from keras.models import Sequential\n",
        "from keras.layers import Dense, Dropout, Flatten\n",
        "from keras.layers import Conv2D, MaxPooling2D\n",
        "from keras import backend as K\n",
        "# the data, split between train and test sets\n",
        "from keras.datasets import cifar100\n",
        "from tensorflow import keras\n",
        "(x_train, y_train), (x_test, y_test) = cifar100.load_data()\n",
        "print(x_train.shape, y_train.shape)"
      ]
    },
    {
      "cell_type": "code",
      "source": [
        "import cv2 as cv\n",
        "import os\n",
        "import time\n",
        "import matplotlib.pyplot as plt\n",
        "import numpy as np"
      ],
      "metadata": {
        "id": "zG4creW45RbB"
      },
      "execution_count": 2,
      "outputs": []
    },
    {
      "cell_type": "code",
      "source": [
        "y_train[:100].shape"
      ],
      "metadata": {
        "colab": {
          "base_uri": "https://localhost:8080/"
        },
        "id": "ZORuJjRN9dEt",
        "outputId": "a6253f24-575a-4fba-89be-05eec0cf43e2"
      },
      "execution_count": 3,
      "outputs": [
        {
          "output_type": "execute_result",
          "data": {
            "text/plain": [
              "(100, 1)"
            ]
          },
          "metadata": {},
          "execution_count": 3
        }
      ]
    },
    {
      "cell_type": "code",
      "source": [
        "y_train"
      ],
      "metadata": {
        "colab": {
          "base_uri": "https://localhost:8080/"
        },
        "id": "X96bTnx1Anic",
        "outputId": "8eca0bfe-5f74-4119-ccd7-edf9fc039537"
      },
      "execution_count": 4,
      "outputs": [
        {
          "output_type": "execute_result",
          "data": {
            "text/plain": [
              "array([[19],\n",
              "       [29],\n",
              "       [ 0],\n",
              "       ...,\n",
              "       [ 3],\n",
              "       [ 7],\n",
              "       [73]])"
            ]
          },
          "metadata": {},
          "execution_count": 4
        }
      ]
    },
    {
      "cell_type": "code",
      "source": [
        "plt.imshow(x_train[0])\n",
        "print(y_train[0])"
      ],
      "metadata": {
        "colab": {
          "base_uri": "https://localhost:8080/",
          "height": 283
        },
        "id": "kAkJj4gjCGLE",
        "outputId": "e95d9826-95da-4058-f1fa-d494e036d851"
      },
      "execution_count": 5,
      "outputs": [
        {
          "output_type": "stream",
          "name": "stdout",
          "text": [
            "[19]\n"
          ]
        },
        {
          "output_type": "display_data",
          "data": {
            "text/plain": [
              "<Figure size 432x288 with 1 Axes>"
            ],
            "image/png": "[encoded data removed]"
          },
          "metadata": {
            "needs_background": "light"
          }
        }
      ]
    },
    {
      "cell_type": "code",
      "source": [
        "plt.imshow(x_train[-3])\n",
        "print(y_train[-3])"
      ],
      "metadata": {
        "colab": {
          "base_uri": "https://localhost:8080/",
          "height": 283
        },
        "id": "m1f1Jvb1LN5M",
        "outputId": "5ba6fdf1-0784-432d-e1f4-d7415632a674"
      },
      "execution_count": 6,
      "outputs": [
        {
          "output_type": "stream",
          "name": "stdout",
          "text": [
            "[3]\n"
          ]
        },
        {
          "output_type": "display_data",
          "data": {
            "text/plain": [
              "<Figure size 432x288 with 1 Axes>"
            ],
            "image/png": "[encoded data removed]"
          },
          "metadata": {
            "needs_background": "light"
          }
        }
      ]
    },
    {
      "cell_type": "code",
      "source": [
        "import tensorflow as tf \n",
        "x_leftright = []\n",
        "y_leftright  = []\n",
        "for i in range(x_train.shape[0]):\n",
        "  x = tf.image.flip_left_right(x_train[i])\n",
        "  y = y_train[i]\n",
        "  x_leftright.append(x)\n",
        "  y_leftright.append(y)"
      ],
      "metadata": {
        "id": "vxZd4lte-Ge7"
      },
      "execution_count": 7,
      "outputs": []
    },
    {
      "cell_type": "code",
      "source": [
        "y_leftright"
      ],
      "metadata": {
        "id": "_V7wIL5hAXYm"
      },
      "execution_count": null,
      "outputs": []
    },
    {
      "cell_type": "code",
      "source": [
        "x_leftright = np.array(x_leftright)\n",
        "y_leftright = np.array(y_leftright)"
      ],
      "metadata": {
        "id": "7N2FAb9r-7Vf"
      },
      "execution_count": 9,
      "outputs": []
    },
    {
      "cell_type": "code",
      "source": [
        "x_leftright.shape"
      ],
      "metadata": {
        "colab": {
          "base_uri": "https://localhost:8080/"
        },
        "id": "epcIXIzZCXoH",
        "outputId": "dd4e856a-f0e3-42cc-a4db-94d65aa92340"
      },
      "execution_count": 10,
      "outputs": [
        {
          "output_type": "execute_result",
          "data": {
            "text/plain": [
              "(50000, 32, 32, 3)"
            ]
          },
          "metadata": {},
          "execution_count": 10
        }
      ]
    },
    {
      "cell_type": "code",
      "source": [
        "y_leftright[:10]"
      ],
      "metadata": {
        "colab": {
          "base_uri": "https://localhost:8080/"
        },
        "id": "6_g-TASJA7ud",
        "outputId": "434dce2f-61bc-4b08-db8d-0c9706540be1"
      },
      "execution_count": 11,
      "outputs": [
        {
          "output_type": "execute_result",
          "data": {
            "text/plain": [
              "array([[19],\n",
              "       [29],\n",
              "       [ 0],\n",
              "       [11],\n",
              "       [ 1],\n",
              "       [86],\n",
              "       [90],\n",
              "       [28],\n",
              "       [23],\n",
              "       [31]])"
            ]
          },
          "metadata": {},
          "execution_count": 11
        }
      ]
    },
    {
      "cell_type": "code",
      "source": [
        "plt.imshow(x_leftright[0])\n",
        "print(y_leftright[0])"
      ],
      "metadata": {
        "colab": {
          "base_uri": "https://localhost:8080/",
          "height": 283
        },
        "id": "skQoE1oSCUX7",
        "outputId": "2d11d4a7-3a47-4e03-fce8-2605348570b3"
      },
      "execution_count": 12,
      "outputs": [
        {
          "output_type": "stream",
          "name": "stdout",
          "text": [
            "[19]\n"
          ]
        },
        {
          "output_type": "display_data",
          "data": {
            "text/plain": [
              "<Figure size 432x288 with 1 Axes>"
            ],
            "image/png": "[encoded data removed]"
          },
          "metadata": {
            "needs_background": "light"
          }
        }
      ]
    },
    {
      "cell_type": "code",
      "source": [
        "import tensorflow as tf \n",
        "x_updown = []\n",
        "y_updown  = []\n",
        "for i in range(x_train.shape[0]):\n",
        "  x = tf.image.flip_up_down(x_train[i])\n",
        "  y = y_train[i]\n",
        "  x_updown.append(x)\n",
        "  y_updown.append(y)"
      ],
      "metadata": {
        "id": "Cy4GKWW4J12y"
      },
      "execution_count": 13,
      "outputs": []
    },
    {
      "cell_type": "code",
      "source": [
        "x_updown = np.array(x_updown)\n",
        "y_updown = np.array(y_updown)"
      ],
      "metadata": {
        "id": "s4Mzt4kwK7Pg"
      },
      "execution_count": 14,
      "outputs": []
    },
    {
      "cell_type": "code",
      "source": [
        "plt.imshow(x_updown[0])\n",
        "print(y_updown[0])"
      ],
      "metadata": {
        "colab": {
          "base_uri": "https://localhost:8080/",
          "height": 283
        },
        "id": "uhkRQQ9rKSFj",
        "outputId": "480746aa-cddb-4f35-b991-5b118986c541"
      },
      "execution_count": 15,
      "outputs": [
        {
          "output_type": "stream",
          "name": "stdout",
          "text": [
            "[19]\n"
          ]
        },
        {
          "output_type": "display_data",
          "data": {
            "text/plain": [
              "<Figure size 432x288 with 1 Axes>"
            ],
            "image/png": "[encoded data removed]"
          },
          "metadata": {
            "needs_background": "light"
          }
        }
      ]
    },
    {
      "cell_type": "code",
      "source": [
        "y_updown[:100]"
      ],
      "metadata": {
        "id": "tEtrHsJoLzlt"
      },
      "execution_count": null,
      "outputs": []
    },
    {
      "cell_type": "code",
      "source": [
        "X_train = np.concatenate((x_train,x_leftright,x_updown))\n"
      ],
      "metadata": {
        "id": "gwfFYWoRDBCL"
      },
      "execution_count": 16,
      "outputs": []
    },
    {
      "cell_type": "code",
      "source": [
        "X_train.shape"
      ],
      "metadata": {
        "colab": {
          "base_uri": "https://localhost:8080/"
        },
        "id": "EmnU-E7dEvGA",
        "outputId": "567b5a76-ec57-413f-d0dc-b7d5e6e7502d"
      },
      "execution_count": 17,
      "outputs": [
        {
          "output_type": "execute_result",
          "data": {
            "text/plain": [
              "(150000, 32, 32, 3)"
            ]
          },
          "metadata": {},
          "execution_count": 17
        }
      ]
    },
    {
      "cell_type": "code",
      "source": [
        "Y_train = np.concatenate((y_train,y_leftright,y_updown))"
      ],
      "metadata": {
        "id": "DBkEaI_kE2oD"
      },
      "execution_count": 18,
      "outputs": []
    },
    {
      "cell_type": "code",
      "source": [
        "Y_train.shape"
      ],
      "metadata": {
        "colab": {
          "base_uri": "https://localhost:8080/"
        },
        "id": "RGI7M7OaFDVC",
        "outputId": "f37e925a-1af4-4457-878c-49c52d91a473"
      },
      "execution_count": 19,
      "outputs": [
        {
          "output_type": "execute_result",
          "data": {
            "text/plain": [
              "(150000, 1)"
            ]
          },
          "metadata": {},
          "execution_count": 19
        }
      ]
    },
    {
      "cell_type": "code",
      "source": [
        "X_train = X_train.reshape(X_train.shape[0], 32, 32, 3)\n",
        "x_test = x_test.reshape(x_test.shape[0], 32, 32, 3)\n",
        "\n",
        "# convert class vectors to binary class matrices\n",
        "Y_train = keras.utils.to_categorical(Y_train, 100)\n",
        "y_test = keras.utils.to_categorical(y_test, 100)\n",
        "X_train = X_train.astype('float32')\n",
        "x_test = x_test.astype('float32')\n",
        "X_train /= 255\n",
        "x_test /= 255\n",
        "print('X_train shape:', X_train.shape)\n",
        "print(X_train.shape[0], 'train samples')\n",
        "print(x_test.shape[0], 'test samples')"
      ],
      "metadata": {
        "colab": {
          "base_uri": "https://localhost:8080/"
        },
        "id": "EUPf3wjCFcDT",
        "outputId": "d05cf187-1e78-4a18-f712-332ff334d95a"
      },
      "execution_count": 20,
      "outputs": [
        {
          "output_type": "stream",
          "name": "stdout",
          "text": [
            "X_train shape: (150000, 32, 32, 3)\n",
            "150000 train samples\n",
            "10000 test samples\n"
          ]
        }
      ]
    },
    {
      "cell_type": "code",
      "source": [
        "X_train.shape"
      ],
      "metadata": {
        "colab": {
          "base_uri": "https://localhost:8080/"
        },
        "id": "qBlOL_KVGdwF",
        "outputId": "b113f4fc-8d27-4c70-98df-ac4225aac9e4"
      },
      "execution_count": 21,
      "outputs": [
        {
          "output_type": "execute_result",
          "data": {
            "text/plain": [
              "(150000, 32, 32, 3)"
            ]
          },
          "metadata": {},
          "execution_count": 21
        }
      ]
    },
    {
      "cell_type": "code",
      "source": [
        "from keras.layers import Activation\n",
        "from keras.models import Sequential\n",
        "from keras.layers import Dense, Dropout, Flatten\n",
        "from keras.layers import Conv2D, MaxPooling2D,BatchNormalization\n",
        "from keras import backend as K"
      ],
      "metadata": {
        "id": "Nvh8jVx2FqJ2"
      },
      "execution_count": 22,
      "outputs": []
    },
    {
      "cell_type": "code",
      "source": [
        "model=Sequential()\n",
        "model.add(Conv2D(32,(3,3),activation='relu',kernel_initializer='he_uniform',padding='same',input_shape=(32,32,3)))\n",
        "model.add(Conv2D(32,(3,3),activation='relu',kernel_initializer='he_uniform',padding='same'))\n",
        "model.add(BatchNormalization())\n",
        "model.add(MaxPooling2D((2,2)))\n",
        "model.add(Conv2D(64,(3,3),activation='relu',kernel_initializer='he_uniform',padding='same'))\n",
        "model.add(Conv2D(64,(3,3),activation='relu',kernel_initializer='he_uniform',padding='same'))\n",
        "model.add(BatchNormalization())\n",
        "model.add(MaxPooling2D((2,2)))\n",
        "model.add(Conv2D(128,(3,3),activation='relu',kernel_initializer='he_uniform',padding='same'))\n",
        "model.add(Conv2D(128,(3,3),activation='relu',kernel_initializer='he_uniform',padding='same'))\n",
        "model.add(BatchNormalization())\n",
        "model.add(MaxPooling2D((2,2)))\n",
        "model.add(Conv2D(512,(3,3),activation='relu',kernel_initializer='he_uniform',padding='same'))\n",
        "model.add(Conv2D(512,(3,3),activation='relu',kernel_initializer='he_uniform',padding='same'))\n",
        "model.add(MaxPooling2D((2,2)))\n",
        "model.add(BatchNormalization())\n",
        "model.add(Flatten())\n",
        "model.add(Dropout(0.2))\n",
        "model.add(Dense(252,activation='relu'))\n",
        "model.add(Dense(100,activation='softmax'))\n",
        "model.compile(loss=keras.losses.categorical_crossentropy,optimizer=keras.optimizers.Adam(),metrics=['accuracy'])\n",
        "model.summary()"
      ],
      "metadata": {
        "colab": {
          "base_uri": "https://localhost:8080/"
        },
        "id": "1hVlYiSfFwhZ",
        "outputId": "c2175bf1-7b56-4449-aca8-f05c3c87a9a9"
      },
      "execution_count": 33,
      "outputs": [
        {
          "output_type": "stream",
          "name": "stdout",
          "text": [
            "Model: \"sequential_2\"\n",
            "_________________________________________________________________\n",
            " Layer (type)                Output Shape              Param #   \n",
            "=================================================================\n",
            " conv2d_10 (Conv2D)          (None, 32, 32, 32)        896       \n",
            "                                                                 \n",
            " conv2d_11 (Conv2D)          (None, 32, 32, 32)        9248      \n",
            "                                                                 \n",
            " batch_normalization (BatchN  (None, 32, 32, 32)       128       \n",
            " ormalization)                                                   \n",
            "                                                                 \n",
            " max_pooling2d_6 (MaxPooling  (None, 16, 16, 32)       0         \n",
            " 2D)                                                             \n",
            "                                                                 \n",
            " conv2d_12 (Conv2D)          (None, 16, 16, 64)        18496     \n",
            "                                                                 \n",
            " conv2d_13 (Conv2D)          (None, 16, 16, 64)        36928     \n",
            "                                                                 \n",
            " batch_normalization_1 (Batc  (None, 16, 16, 64)       256       \n",
            " hNormalization)                                                 \n",
            "                                                                 \n",
            " max_pooling2d_7 (MaxPooling  (None, 8, 8, 64)         0         \n",
            " 2D)                                                             \n",
            "                                                                 \n",
            " conv2d_14 (Conv2D)          (None, 8, 8, 128)         73856     \n",
            "                                                                 \n",
            " conv2d_15 (Conv2D)          (None, 8, 8, 128)         147584    \n",
            "                                                                 \n",
            " batch_normalization_2 (Batc  (None, 8, 8, 128)        512       \n",
            " hNormalization)                                                 \n",
            "                                                                 \n",
            " max_pooling2d_8 (MaxPooling  (None, 4, 4, 128)        0         \n",
            " 2D)                                                             \n",
            "                                                                 \n",
            " conv2d_16 (Conv2D)          (None, 4, 4, 512)         590336    \n",
            "                                                                 \n",
            " conv2d_17 (Conv2D)          (None, 4, 4, 512)         2359808   \n",
            "                                                                 \n",
            " max_pooling2d_9 (MaxPooling  (None, 2, 2, 512)        0         \n",
            " 2D)                                                             \n",
            "                                                                 \n",
            " batch_normalization_3 (Batc  (None, 2, 2, 512)        2048      \n",
            " hNormalization)                                                 \n",
            "                                                                 \n",
            " flatten_2 (Flatten)         (None, 2048)              0         \n",
            "                                                                 \n",
            " dropout_1 (Dropout)         (None, 2048)              0         \n",
            "                                                                 \n",
            " dense_4 (Dense)             (None, 252)               516348    \n",
            "                                                                 \n",
            " dense_5 (Dense)             (None, 100)               25300     \n",
            "                                                                 \n",
            "=================================================================\n",
            "Total params: 3,781,744\n",
            "Trainable params: 3,780,272\n",
            "Non-trainable params: 1,472\n",
            "_________________________________________________________________\n"
          ]
        }
      ]
    },
    {
      "cell_type": "code",
      "source": [
        "Y_train.shape"
      ],
      "metadata": {
        "colab": {
          "base_uri": "https://localhost:8080/"
        },
        "id": "0cG3DVA1GEUM",
        "outputId": "491befe1-63d4-45be-fe64-750366aa4d23"
      },
      "execution_count": 29,
      "outputs": [
        {
          "output_type": "execute_result",
          "data": {
            "text/plain": [
              "(150000, 100)"
            ]
          },
          "metadata": {},
          "execution_count": 29
        }
      ]
    },
    {
      "cell_type": "code",
      "source": [
        "hist = model.fit(X_train, Y_train,batch_size=128,epochs=30,verbose=1,validation_data=(x_test, y_test))"
      ],
      "metadata": {
        "colab": {
          "base_uri": "https://localhost:8080/"
        },
        "id": "pHDvXIebF1Zs",
        "outputId": "89b1023d-c4d9-4796-ca22-baa8e514b766"
      },
      "execution_count": 34,
      "outputs": [
        {
          "output_type": "stream",
          "name": "stdout",
          "text": [
            "Epoch 1/30\n",
            "1172/1172 [==============================] - 29s 24ms/step - loss: 3.1347 - accuracy: 0.2337 - val_loss: 2.7869 - val_accuracy: 0.3030\n",
            "Epoch 2/30\n",
            "1172/1172 [==============================] - 26s 22ms/step - loss: 2.1438 - accuracy: 0.4225 - val_loss: 2.2080 - val_accuracy: 0.4199\n",
            "Epoch 3/30\n",
            "1172/1172 [==============================] - 26s 22ms/step - loss: 1.7164 - accuracy: 0.5211 - val_loss: 2.0018 - val_accuracy: 0.4742\n",
            "Epoch 4/30\n",
            "1172/1172 [==============================] - 27s 23ms/step - loss: 1.4068 - accuracy: 0.5957 - val_loss: 1.9439 - val_accuracy: 0.5021\n",
            "Epoch 5/30\n",
            "1172/1172 [==============================] - 27s 23ms/step - loss: 1.1428 - accuracy: 0.6640 - val_loss: 1.9212 - val_accuracy: 0.5190\n",
            "Epoch 6/30\n",
            "1172/1172 [==============================] - 26s 22ms/step - loss: 0.9088 - accuracy: 0.7236 - val_loss: 2.1108 - val_accuracy: 0.5111\n",
            "Epoch 7/30\n",
            "1172/1172 [==============================] - 26s 22ms/step - loss: 0.7155 - accuracy: 0.7763 - val_loss: 2.0553 - val_accuracy: 0.5372\n",
            "Epoch 8/30\n",
            "1172/1172 [==============================] - 26s 22ms/step - loss: 0.5648 - accuracy: 0.8188 - val_loss: 2.3868 - val_accuracy: 0.5185\n",
            "Epoch 9/30\n",
            "1172/1172 [==============================] - 26s 22ms/step - loss: 0.4711 - accuracy: 0.8470 - val_loss: 2.6125 - val_accuracy: 0.5121\n",
            "Epoch 10/30\n",
            "1172/1172 [==============================] - 26s 22ms/step - loss: 0.3997 - accuracy: 0.8686 - val_loss: 2.5639 - val_accuracy: 0.5223\n",
            "Epoch 11/30\n",
            "1172/1172 [==============================] - 26s 22ms/step - loss: 0.3546 - accuracy: 0.8829 - val_loss: 2.5850 - val_accuracy: 0.5286\n",
            "Epoch 12/30\n",
            "1172/1172 [==============================] - 26s 22ms/step - loss: 0.3136 - accuracy: 0.8971 - val_loss: 2.5985 - val_accuracy: 0.5411\n",
            "Epoch 13/30\n",
            "1172/1172 [==============================] - 26s 22ms/step - loss: 0.2893 - accuracy: 0.9049 - val_loss: 2.6986 - val_accuracy: 0.5360\n",
            "Epoch 14/30\n",
            "1172/1172 [==============================] - 26s 22ms/step - loss: 0.2657 - accuracy: 0.9121 - val_loss: 2.8611 - val_accuracy: 0.5405\n",
            "Epoch 15/30\n",
            "1172/1172 [==============================] - 27s 23ms/step - loss: 0.2493 - accuracy: 0.9186 - val_loss: 2.8386 - val_accuracy: 0.5416\n",
            "Epoch 16/30\n",
            "1172/1172 [==============================] - 27s 23ms/step - loss: 0.2354 - accuracy: 0.9224 - val_loss: 3.0529 - val_accuracy: 0.5304\n",
            "Epoch 17/30\n",
            "1172/1172 [==============================] - 27s 23ms/step - loss: 0.2170 - accuracy: 0.9292 - val_loss: 2.9752 - val_accuracy: 0.5406\n",
            "Epoch 18/30\n",
            "1172/1172 [==============================] - 27s 23ms/step - loss: 0.2120 - accuracy: 0.9308 - val_loss: 3.0415 - val_accuracy: 0.5414\n",
            "Epoch 19/30\n",
            "1172/1172 [==============================] - 27s 23ms/step - loss: 0.1997 - accuracy: 0.9351 - val_loss: 2.9105 - val_accuracy: 0.5461\n",
            "Epoch 20/30\n",
            "1172/1172 [==============================] - 27s 23ms/step - loss: 0.1909 - accuracy: 0.9374 - val_loss: 3.0097 - val_accuracy: 0.5529\n",
            "Epoch 21/30\n",
            "1172/1172 [==============================] - 27s 23ms/step - loss: 0.1831 - accuracy: 0.9405 - val_loss: 3.0928 - val_accuracy: 0.5468\n",
            "Epoch 22/30\n",
            "1172/1172 [==============================] - 27s 23ms/step - loss: 0.1764 - accuracy: 0.9425 - val_loss: 3.0929 - val_accuracy: 0.5482\n",
            "Epoch 23/30\n",
            "1172/1172 [==============================] - 27s 23ms/step - loss: 0.1618 - accuracy: 0.9467 - val_loss: 3.2398 - val_accuracy: 0.5457\n",
            "Epoch 24/30\n",
            "1172/1172 [==============================] - 27s 23ms/step - loss: 0.1616 - accuracy: 0.9465 - val_loss: 3.1739 - val_accuracy: 0.5500\n",
            "Epoch 25/30\n",
            "1172/1172 [==============================] - 27s 23ms/step - loss: 0.1553 - accuracy: 0.9492 - val_loss: 3.2102 - val_accuracy: 0.5458\n",
            "Epoch 26/30\n",
            "1172/1172 [==============================] - 27s 23ms/step - loss: 0.1436 - accuracy: 0.9529 - val_loss: 3.2357 - val_accuracy: 0.5481\n",
            "Epoch 27/30\n",
            "1172/1172 [==============================] - 27s 23ms/step - loss: 0.1444 - accuracy: 0.9537 - val_loss: 3.1880 - val_accuracy: 0.5515\n",
            "Epoch 28/30\n",
            "1172/1172 [==============================] - 27s 23ms/step - loss: 0.1347 - accuracy: 0.9559 - val_loss: 3.1962 - val_accuracy: 0.5603\n",
            "Epoch 29/30\n",
            "1172/1172 [==============================] - 27s 23ms/step - loss: 0.1308 - accuracy: 0.9574 - val_loss: 3.2769 - val_accuracy: 0.5435\n",
            "Epoch 30/30\n",
            "1172/1172 [==============================] - 27s 23ms/step - loss: 0.1277 - accuracy: 0.9582 - val_loss: 3.3261 - val_accuracy: 0.5489\n"
          ]
        }
      ]
    },
    {
      "cell_type": "code",
      "source": [
        "plt.plot(hist.history['val_accuracy'])"
      ],
      "metadata": {
        "colab": {
          "base_uri": "https://localhost:8080/",
          "height": 282
        },
        "id": "ZEgCft1Bdmtz",
        "outputId": "d33433ea-c535-470d-b2ca-8d50d82a45e6"
      },
      "execution_count": 35,
      "outputs": [
        {
          "output_type": "execute_result",
          "data": {
            "text/plain": [
              "[<matplotlib.lines.Line2D at 0x7f2bf382fb10>]"
            ]
          },
          "metadata": {},
          "execution_count": 35
        },
        {
          "output_type": "display_data",
          "data": {
            "text/plain": [
              "<Figure size 432x288 with 1 Axes>"
            ],
            "image/png": "[encoded data removed]"
          },
          "metadata": {
            "needs_background": "light"
          }
        }
      ]
    },
    {
      "cell_type": "code",
      "source": [
        "plt.plot(hist.history['accuracy'])"
      ],
      "metadata": {
        "colab": {
          "base_uri": "https://localhost:8080/",
          "height": 282
        },
        "id": "J5w19cmmdyBo",
        "outputId": "e00a8060-0371-4281-f7e6-0e5e1bd9d7b0"
      },
      "execution_count": 36,
      "outputs": [
        {
          "output_type": "execute_result",
          "data": {
            "text/plain": [
              "[<matplotlib.lines.Line2D at 0x7f2be05bf250>]"
            ]
          },
          "metadata": {},
          "execution_count": 36
        },
        {
          "output_type": "display_data",
          "data": {
            "text/plain": [
              "<Figure size 432x288 with 1 Axes>"
            ],
            "image/png": "[encoded data removed]"
          },
          "metadata": {
            "needs_background": "light"
          }
        }
      ]
    },
    {
      "cell_type": "code",
      "source": [
        "model.save('cifar100.h5')"
      ],
      "metadata": {
        "id": "8SJ3RMbto33E"
      },
      "execution_count": 37,
      "outputs": []
    }
  ]
}